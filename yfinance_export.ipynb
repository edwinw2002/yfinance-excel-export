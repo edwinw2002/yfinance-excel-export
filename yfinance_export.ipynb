{
 "cells": [
  {
   "cell_type": "markdown",
   "id": "a64944c9",
   "metadata": {},
   "source": [
    "# Import Required Libraries"
   ]
  },
  {
   "cell_type": "code",
   "execution_count": 1,
   "id": "07defbfd",
   "metadata": {},
   "outputs": [],
   "source": [
    "import yfinance as yf\n",
    "import pandas as pd\n",
    "from datetime import datetime, timedelta\n",
    "import os"
   ]
  },
  {
   "cell_type": "markdown",
   "id": "2b3ccd2b",
   "metadata": {},
   "source": [
    "# Section 1: Define Ticker and Time Range"
   ]
  },
  {
   "cell_type": "code",
   "execution_count": 19,
   "id": "0a3ea8a9",
   "metadata": {},
   "outputs": [
    {
     "name": "stdout",
     "output_type": "stream",
     "text": [
      "2025-10-15 15:27:30.686443\n",
      "2024-10-15 15:27:30.686443\n"
     ]
    }
   ],
   "source": [
    "# Define the list of tickers\n",
    "tickers = ['SPY','BND','GLD','QQQ','VTI']\n",
    "\n",
    "# Set the end date to today\n",
    "end_date = datetime.today()\n",
    "print(end_date)\n",
    "\n",
    "# Set the start date to 2 years ago\n",
    "start_date = end_date - timedelta(days = 365)\n",
    "print(start_date)"
   ]
  },
  {
   "cell_type": "markdown",
   "id": "53d76bf4",
   "metadata": {},
   "source": [
    "# Section 2: Download Close Prices"
   ]
  },
  {
   "cell_type": "code",
   "execution_count": 20,
   "id": "4fd9679a",
   "metadata": {},
   "outputs": [
    {
     "name": "stderr",
     "output_type": "stream",
     "text": [
      "C:\\Users\\edwin\\AppData\\Local\\Temp\\ipykernel_26976\\1125993733.py:6: FutureWarning: YF.download() has changed argument auto_adjust default to True\n",
      "  data = yf.download(ticker, start = start_date, end = end_date)\n",
      "[*********************100%***********************]  1 of 1 completed\n",
      "C:\\Users\\edwin\\AppData\\Local\\Temp\\ipykernel_26976\\1125993733.py:6: FutureWarning: YF.download() has changed argument auto_adjust default to True\n",
      "  data = yf.download(ticker, start = start_date, end = end_date)\n",
      "[*********************100%***********************]  1 of 1 completed\n",
      "C:\\Users\\edwin\\AppData\\Local\\Temp\\ipykernel_26976\\1125993733.py:6: FutureWarning: YF.download() has changed argument auto_adjust default to True\n",
      "  data = yf.download(ticker, start = start_date, end = end_date)\n",
      "[*********************100%***********************]  1 of 1 completed\n",
      "C:\\Users\\edwin\\AppData\\Local\\Temp\\ipykernel_26976\\1125993733.py:6: FutureWarning: YF.download() has changed argument auto_adjust default to True\n",
      "  data = yf.download(ticker, start = start_date, end = end_date)\n",
      "[*********************100%***********************]  1 of 1 completed\n",
      "C:\\Users\\edwin\\AppData\\Local\\Temp\\ipykernel_26976\\1125993733.py:6: FutureWarning: YF.download() has changed argument auto_adjust default to True\n",
      "  data = yf.download(ticker, start = start_date, end = end_date)\n",
      "[*********************100%***********************]  1 of 1 completed\n"
     ]
    }
   ],
   "source": [
    "## Create an empty DataFrame to store the close prices\n",
    "close_df = pd.DataFrame()\n",
    "\n",
    "## Download the close prices for each ticker\n",
    "for ticker in tickers:\n",
    "    data = yf.download(ticker, start = start_date, end = end_date)\n",
    "    close_df[ticker] = data['Close']\n"
   ]
  },
  {
   "cell_type": "code",
   "execution_count": 23,
   "id": "b16ae5db",
   "metadata": {},
   "outputs": [
    {
     "name": "stdout",
     "output_type": "stream",
     "text": [
      "                   SPY        BND         GLD         QQQ         VTI\n",
      "Date                                                                 \n",
      "2024-10-15  572.815918  71.268227  245.919998  488.215118  282.798859\n",
      "2024-10-16  575.305725  71.364479  247.149994  488.274811  284.240723\n",
      "2024-10-17  575.355042  71.018036  248.630005  488.612976  284.181458\n",
      "2024-10-18  577.568237  71.056534  251.270004  491.815674  285.297424\n",
      "2024-10-21  576.619690  70.575363  251.220001  492.760620  284.398743\n",
      "2024-10-22  576.313477  70.604256  253.929993  493.297729  284.072815\n",
      "2024-10-23  571.047485  70.431046  250.869995  485.738464  281.505188\n",
      "2024-10-24  572.282471  70.546494  252.800003  489.677216  282.255737\n",
      "2024-10-25  572.084900  70.402176  253.320007  492.661133  281.989075\n",
      "2024-10-28  573.853394  70.315544  253.330002  492.740692  283.134644\n"
     ]
    }
   ],
   "source": [
    "# Display the DataFrame\n",
    "print(close_df.head(10))"
   ]
  },
  {
   "cell_type": "code",
   "execution_count": 24,
   "id": "3d25495c",
   "metadata": {},
   "outputs": [
    {
     "name": "stdout",
     "output_type": "stream",
     "text": [
      "✅ File saved at: C:\\Users\\edwin\\Desktop\\stock_data\\stock_prices.xlsx\n"
     ]
    }
   ],
   "source": [
    "# Set the output folder path\n",
    "output_folder = r\"C:\\Users\\edwin\\Desktop\\stock_data\"\n",
    "\n",
    "# ✅ Create the folder if it doesn't exist\n",
    "os.makedirs(output_folder, exist_ok=True)\n",
    "\n",
    "# Build full output path\n",
    "output_file = os.path.join(output_folder, \"stock_prices.xlsx\")\n",
    "\n",
    "# Export DataFrame to Excel\n",
    "close_df.to_excel(output_file, index=False)\n",
    "print(f\"✅ File saved at: {output_file}\")"
   ]
  }
 ],
 "metadata": {
  "kernelspec": {
   "display_name": "Python 3",
   "language": "python",
   "name": "python3"
  },
  "language_info": {
   "codemirror_mode": {
    "name": "ipython",
    "version": 3
   },
   "file_extension": ".py",
   "mimetype": "text/x-python",
   "name": "python",
   "nbconvert_exporter": "python",
   "pygments_lexer": "ipython3",
   "version": "3.12.0"
  }
 },
 "nbformat": 4,
 "nbformat_minor": 5
}
